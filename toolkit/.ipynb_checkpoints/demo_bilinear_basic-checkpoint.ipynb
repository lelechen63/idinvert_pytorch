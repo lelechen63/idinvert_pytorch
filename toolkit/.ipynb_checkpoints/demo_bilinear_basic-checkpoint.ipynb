{
 "cells": [
  {
   "cell_type": "markdown",
   "metadata": {},
   "source": [
    "# FaceScape Bilinear Model - generate random 3D face\n",
    "\n",
    "This demo shows how to use FaceScape bilinear model to generate randmom 3D meshes. Please make sure the environmenthave been prepared following [README-toolkit](https://github.com/zhuhao-nju/facescape/blob/master/toolkit/README.md)."
   ]
  },
  {
   "cell_type": "markdown",
   "metadata": {},
   "source": [
    "### (1) demo for version 1.6\n",
    "\n",
    "Please download **'facescape_bilinear_model_v1.6.zip'** from [FaceScape website](https://facescape.nju.edu.cn/) or from the [external_link](https://github.com/zhuhao-nju/facescape_debug/blob/master/doc/external_link_fsbm.md), then extract the npz files to \"/toolkit/bilinear_model/\".  Here is a demo for the basic usage:"
   ]
  },
  {
   "cell_type": "code",
   "execution_count": 1,
   "metadata": {},
   "outputs": [
    {
     "ename": "ModuleNotFoundError",
     "evalue": "No module named 'pyrender'",
     "output_type": "error",
     "traceback": [
      "\u001b[0;31m---------------------------------------------------------------------------\u001b[0m",
      "\u001b[0;31mModuleNotFoundError\u001b[0m                       Traceback (most recent call last)",
      "\u001b[0;32m<ipython-input-1-b529bc00af88>\u001b[0m in \u001b[0;36m<module>\u001b[0;34m\u001b[0m\n\u001b[1;32m      1\u001b[0m \u001b[0;32mimport\u001b[0m \u001b[0mnumpy\u001b[0m \u001b[0;32mas\u001b[0m \u001b[0mnp\u001b[0m\u001b[0;34m,\u001b[0m \u001b[0mtrimesh\u001b[0m\u001b[0;34m\u001b[0m\u001b[0;34m\u001b[0m\u001b[0m\n\u001b[1;32m      2\u001b[0m \u001b[0;32mfrom\u001b[0m \u001b[0msrc\u001b[0m\u001b[0;34m.\u001b[0m\u001b[0mfacescape_bm\u001b[0m \u001b[0;32mimport\u001b[0m \u001b[0mfacescape_bm\u001b[0m\u001b[0;34m\u001b[0m\u001b[0;34m\u001b[0m\u001b[0m\n\u001b[0;32m----> 3\u001b[0;31m \u001b[0;32mfrom\u001b[0m \u001b[0msrc\u001b[0m\u001b[0;34m.\u001b[0m\u001b[0mrenderer\u001b[0m \u001b[0;32mimport\u001b[0m \u001b[0mrender_cvcam\u001b[0m\u001b[0;34m\u001b[0m\u001b[0;34m\u001b[0m\u001b[0m\n\u001b[0m\u001b[1;32m      4\u001b[0m \u001b[0;32mfrom\u001b[0m \u001b[0msrc\u001b[0m\u001b[0;34m.\u001b[0m\u001b[0mutility\u001b[0m \u001b[0;32mimport\u001b[0m \u001b[0mshow_img_arr\u001b[0m\u001b[0;34m\u001b[0m\u001b[0;34m\u001b[0m\u001b[0m\n\u001b[1;32m      5\u001b[0m \u001b[0;34m\u001b[0m\u001b[0m\n",
      "\u001b[0;32m~/Work/facescape/toolkit/src/renderer.py\u001b[0m in \u001b[0;36m<module>\u001b[0;34m\u001b[0m\n\u001b[1;32m      1\u001b[0m \u001b[0;32mimport\u001b[0m \u001b[0mnumpy\u001b[0m \u001b[0;32mas\u001b[0m \u001b[0mnp\u001b[0m\u001b[0;34m\u001b[0m\u001b[0;34m\u001b[0m\u001b[0m\n\u001b[0;32m----> 2\u001b[0;31m \u001b[0;32mimport\u001b[0m \u001b[0mpyrender\u001b[0m\u001b[0;34m\u001b[0m\u001b[0;34m\u001b[0m\u001b[0m\n\u001b[0m\u001b[1;32m      3\u001b[0m \u001b[0;32mimport\u001b[0m \u001b[0mtrimesh\u001b[0m\u001b[0;34m\u001b[0m\u001b[0;34m\u001b[0m\u001b[0m\n\u001b[1;32m      4\u001b[0m \u001b[0;34m\u001b[0m\u001b[0m\n\u001b[1;32m      5\u001b[0m \u001b[0;31m# render with gl camera\u001b[0m\u001b[0;34m\u001b[0m\u001b[0;34m\u001b[0m\u001b[0;34m\u001b[0m\u001b[0m\n",
      "\u001b[0;31mModuleNotFoundError\u001b[0m: No module named 'pyrender'"
     ]
    }
   ],
   "source": [
    "import numpy as np, trimesh\n",
    "from src.facescape_bm import facescape_bm\n",
    "from src.renderer import render_cvcam\n",
    "from src.utility import show_img_arr\n",
    "\n",
    "np.random.seed(1000)\n",
    "\n",
    "model = facescape_bm(\"/raid/celong/FaceScape/facescape_bilinear_model_v1_6/facescape_bm_v1.6_847_50_52_id_front.npz\")\n",
    "\n",
    "# create random identity vector\n",
    "random_id_vec = (np.random.random(50) - 0.5) * 0.1\n",
    "if random_id_vec[0]>0:\n",
    "    random_id_vec = -random_id_vec\n",
    "\n",
    "# create random expression vector\n",
    "exp_vec = np.zeros(52)\n",
    "exp_vec[np.random.randint(52)] = 1\n",
    "    \n",
    "# creat random color vector\n",
    "random_color_vec = (np.random.random(100) - 0.5) * 100\n",
    "\n",
    "# generate and save full head mesh\n",
    "mesh_full = model.gen_full(random_id_vec, exp_vec)\n",
    "mesh_full.export(\"./demo_output/bm_v16_result_full.obj\")\n",
    "\n",
    "# generate and save facial mesh\n",
    "mesh_face = model.gen_face(random_id_vec, exp_vec)\n",
    "mesh_face.export(\"./demo_output/bm_v16_result_face.obj\")\n",
    "\n",
    "# generate and save facial mesh with rough vertex color\n",
    "mesh_face_color = model.gen_face_color(random_id_vec, exp_vec, random_color_vec)\n",
    "mesh_face_color.export(\"./demo_output/bm_v16_result_face_color.obj\", enable_vc = True)\n",
    "\n",
    "print(\"Results saved to './demo_output/'\")\n",
    "\n",
    "# render generated meshes\n",
    "depth_full, image_full = render_cvcam(trimesh.Trimesh(vertices = mesh_full.vertices, \n",
    "                                                      faces = mesh_full.faces_v-1))\n",
    "\n",
    "depth_face, image_face = render_cvcam(trimesh.Trimesh(vertices = mesh_face.vertices, \n",
    "                                                      faces = mesh_face.faces_v-1))\n",
    "\n",
    "depth_face_color, image_face_color = render_cvcam(trimesh.Trimesh(\n",
    "                                             vertices = mesh_face_color.vertices, \n",
    "                                             faces = mesh_face_color.faces_v-1,\n",
    "                                             vertex_colors = mesh_face_color.vert_colors))\n",
    "\n",
    "# show rendered images\n",
    "merge_img = np.concatenate((image_full[128:-128, 128:-128], \n",
    "                            image_face[128:-128, 128:-128], \n",
    "                            image_face_color[128:-128, 128:-128]), 1)\n",
    "\n",
    "show_img_arr(merge_img, bgr_mode = True)"
   ]
  },
  {
   "cell_type": "markdown",
   "metadata": {},
   "source": [
    "### (2) demo for Bilinear model v1.0/1.2/1.3\n",
    "\n",
    "Please firstly download **'facescape_bilinear_model_v1.3.zip'** from [FaceScape website](https://facescape.nju.edu.cn/), extract the 'data' folder to the current directory, then run:"
   ]
  },
  {
   "cell_type": "code",
   "execution_count": 2,
   "metadata": {},
   "outputs": [
    {
     "name": "stdout",
     "output_type": "stream",
     "text": [
      "Results saved to bilinear_result_head.obj and bilinear_result_face_color.obj\n"
     ]
    }
   ],
   "source": [
    "import numpy as np\n",
    "import pickle, os\n",
    "\n",
    "# triangle faces\n",
    "with open('./data/predef_front_faces.pkl', 'rb') as f:\n",
    "    faces_front = pickle.load(f)\n",
    "\n",
    "with open('./data/front_indices.pkl', 'rb') as f:\n",
    "    indices_front = pickle.load(f)\n",
    "    \n",
    "with open('./data/predef_faces.pkl', 'rb') as f:\n",
    "    faces_full = pickle.load(f)\n",
    "    \n",
    "# texture coordinates\n",
    "with open('./data/predef_texcoords.pkl', 'rb') as f:\n",
    "    texcoords = pickle.load(f)\n",
    "\n",
    "# bilinear model with 52 expression parameters and 50 identity parameters\n",
    "# We perform Tucker decomposition only along the identity dimension to reserve the semantic meaning of parameters in expression dimension as speciﬁc blendshape weights\n",
    "core_tensor = np.load('./data/core_847_50_52.npy')\n",
    "factors_id = np.load('./data/factors_id_847_50_52.npy')\n",
    "\n",
    "matrix_tex = np.load('./data/matrix_text_847_100.npy')\n",
    "mean_tex = np.load('./data/mean_text_847_100.npy')\n",
    "factors_tex = np.load('./data/factors_tex_847_100.npy')\n",
    "\n",
    "id = factors_id[0]\n",
    "exp = np.zeros(52)\n",
    "exp[0] = 1\n",
    "\n",
    "core_tensor = core_tensor.transpose((2, 1, 0))\n",
    "mesh_vertices_full = core_tensor.dot(id).dot(exp).reshape((-1, 3))\n",
    "mesh_vertices_front = mesh_vertices_full[indices_front]\n",
    "\n",
    "tex = mean_tex + matrix_tex.dot(factors_tex[0])\n",
    "tex = tex.reshape((-1, 3)) / 255\n",
    "\n",
    "os.makedirs(\"./demo_output/\", exist_ok = True)\n",
    "with open('./demo_output/bm_v10_result_full.obj', \"w\") as f:\n",
    "    for i in range(mesh_vertices_full.shape[0]):\n",
    "        f.write(\"v %.6f %.6f %.6f\\n\" % (mesh_vertices_full[i, 0], mesh_vertices_full[i, 1], mesh_vertices_full[i, 2]))\n",
    "    for i in range(len(texcoords)):\n",
    "        f.write(\"vt %.6f %.6f\\n\" % (texcoords[i][0], texcoords[i][1]))\n",
    "    for face in faces_full:\n",
    "        face_vertices, face_normals, face_texture_coords, material = face\n",
    "        f.write(\"f %d/%d %d/%d %d/%d\\n\" % (\n",
    "            face_vertices[0], face_texture_coords[0], face_vertices[1], face_texture_coords[1], face_vertices[2],\n",
    "            face_texture_coords[2]))\n",
    "\n",
    "with open('./demo_output/bm_v10_result_face_color.obj', \"w\") as f:\n",
    "    for i in range(mesh_vertices_front.shape[0]):\n",
    "        f.write(\"v %.6f %.6f %.6f %.6f %.6f %.6f\\n\" % (\n",
    "            mesh_vertices_front[i, 0], mesh_vertices_front[i, 1], mesh_vertices_front[i, 2], tex[i, 2], tex[i, 1], tex[i, 0]))\n",
    "    for face in faces_front:\n",
    "        face_vertices, face_normals, face_texture_coords, material = face\n",
    "        f.write(\"f %d %d %d\\n\" % (face_vertices[0], face_vertices[1], face_vertices[2]))\n",
    "print(\"Results saved to './demo_output/'\")"
   ]
  }
 ],
 "metadata": {
  "kernelspec": {
   "display_name": "Python 3",
   "language": "python",
   "name": "python3"
  },
  "language_info": {
   "codemirror_mode": {
    "name": "ipython",
    "version": 3
   },
   "file_extension": ".py",
   "mimetype": "text/x-python",
   "name": "python",
   "nbconvert_exporter": "python",
   "pygments_lexer": "ipython3",
   "version": "3.7.10"
  }
 },
 "nbformat": 4,
 "nbformat_minor": 4
}
